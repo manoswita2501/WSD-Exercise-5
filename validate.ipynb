{
 "cells": [
  {
   "cell_type": "code",
   "execution_count": null,
   "metadata": {},
   "outputs": [],
   "source": [
    "from lxml import etree as ET\n",
    "\n",
    "def transform_and_validate(xml_file, xsl_file, xsd_file, output_file):\n",
    "    # Transform XML to HTML using XSLT\n",
    "    dom = ET.parse(xml_file)\n",
    "    xslt = ET.parse(xsl_file)\n",
    "    transform = ET.XSLT(xslt)\n",
    "    newdom = transform(dom)\n",
    "\n",
    "    # Save the transformed HTML to a file\n",
    "    with open(output_file, \"wb\") as f:\n",
    "        f.write(ET.tostring(newdom, pretty_print=True))\n",
    "\n",
    "    # Validate transformed HTML against XSD\n",
    "    with open(output_file, \"rb\") as f:\n",
    "        html_content = f.read()\n",
    "    html_schema = ET.XMLSchema(file=xsd_file)\n",
    "    \n",
    "    try:\n",
    "        html_schema.assertValid(ET.fromstring(html_content))\n",
    "        print(\"Validation successful: Transformed HTML adheres to the schema.\")\n",
    "    except ET.DocumentInvalid as e:\n",
    "        print(\"Validation failed:\\n\", e)\n",
    "\n",
    "if __name__ == \"__main__\":\n",
    "    xml_file = \"products.xml\"\n",
    "    xsl_file = \"transform.xsl\"\n",
    "    xsd_file = \"product_schema.xsd\"\n",
    "    output_file = \"output.html\"\n",
    "\n",
    "    transform_and_validate(xml_file, xsl_file, xsd_file, output_file)"
   ]
  }
 ],
 "metadata": {
  "kernelspec": {
   "display_name": "Python 3",
   "language": "python",
   "name": "python3"
  },
  "language_info": {
   "codemirror_mode": {
    "name": "ipython",
    "version": 3
   },
   "file_extension": ".py",
   "mimetype": "text/x-python",
   "name": "python",
   "nbconvert_exporter": "python",
   "pygments_lexer": "ipython3",
   "version": "3.11.4"
  },
  "orig_nbformat": 4
 },
 "nbformat": 4,
 "nbformat_minor": 2
}
